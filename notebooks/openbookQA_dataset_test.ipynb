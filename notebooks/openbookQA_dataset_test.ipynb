{
 "cells": [
  {
   "cell_type": "code",
   "execution_count": 1,
   "metadata": {},
   "outputs": [
    {
     "name": "stderr",
     "output_type": "stream",
     "text": [
      "/Users/hrh/miniconda3/envs/rnn_trans/lib/python3.11/site-packages/tqdm/auto.py:21: TqdmWarning: IProgress not found. Please update jupyter and ipywidgets. See https://ipywidgets.readthedocs.io/en/stable/user_install.html\n",
      "  from .autonotebook import tqdm as notebook_tqdm\n"
     ]
    },
    {
     "data": {
      "text/plain": [
       "DatasetDict({\n",
       "    train: Dataset({\n",
       "        features: ['id', 'question_stem', 'choices', 'answerKey'],\n",
       "        num_rows: 4957\n",
       "    })\n",
       "    validation: Dataset({\n",
       "        features: ['id', 'question_stem', 'choices', 'answerKey'],\n",
       "        num_rows: 500\n",
       "    })\n",
       "    test: Dataset({\n",
       "        features: ['id', 'question_stem', 'choices', 'answerKey'],\n",
       "        num_rows: 500\n",
       "    })\n",
       "})"
      ]
     },
     "execution_count": 1,
     "metadata": {},
     "output_type": "execute_result"
    }
   ],
   "source": [
    "from datasets import load_dataset\n",
    "\n",
    "\n",
    "openbookqa_dataset = load_dataset('openbookqa')\n",
    "openbookqa_dataset"
   ]
  },
  {
   "cell_type": "code",
   "execution_count": 2,
   "metadata": {},
   "outputs": [
    {
     "name": "stdout",
     "output_type": "stream",
     "text": [
      "{'id': '7-980', 'question_stem': 'The sun is responsible for', 'choices': {'text': ['puppies learning new tricks', 'children growing up and getting old', 'flowers wilting in a vase', 'plants sprouting, blooming and wilting'], 'label': ['A', 'B', 'C', 'D']}, 'answerKey': 'D'}\n"
     ]
    }
   ],
   "source": [
    "# see a example\n",
    "train_example = openbookqa_dataset['train'][0]\n",
    "print(train_example)"
   ]
  },
  {
   "cell_type": "code",
   "execution_count": 3,
   "metadata": {},
   "outputs": [
    {
     "name": "stdout",
     "output_type": "stream",
     "text": [
      "DatasetDict({\n",
      "    train: Dataset({\n",
      "        features: ['id', 'question_stem', 'choices', 'answerKey', 'input_texts', 'label'],\n",
      "        num_rows: 4957\n",
      "    })\n",
      "    validation: Dataset({\n",
      "        features: ['id', 'question_stem', 'choices', 'answerKey', 'input_texts', 'label'],\n",
      "        num_rows: 500\n",
      "    })\n",
      "    test: Dataset({\n",
      "        features: ['id', 'question_stem', 'choices', 'answerKey', 'input_texts', 'label'],\n",
      "        num_rows: 500\n",
      "    })\n",
      "})\n",
      "{'id': '7-980', 'question_stem': 'The sun is responsible for', 'choices': {'text': ['puppies learning new tricks', 'children growing up and getting old', 'flowers wilting in a vase', 'plants sprouting, blooming and wilting'], 'label': ['A', 'B', 'C', 'D']}, 'answerKey': 'D', 'input_texts': ['The sun is responsible for puppies learning new tricks', 'The sun is responsible for children growing up and getting old', 'The sun is responsible for flowers wilting in a vase', 'The sun is responsible for plants sprouting, blooming and wilting'], 'label': 3}\n"
     ]
    }
   ],
   "source": [
    "from datasets import load_dataset\n",
    "\n",
    "openbookqa_dataset = load_dataset('openbookqa')\n",
    "\n",
    "def preprocess_examples(example):\n",
    "    # merge question and choices\n",
    "    choices_text = example['choices']['text']\n",
    "    question_stems = example['question_stem']\n",
    "    inputs = [question_stems + \" \" + choice for choice in choices_text]\n",
    "    # answerKey to text label\n",
    "    label = ord(example['answerKey']) - ord('A')\n",
    "    return {'input_texts': inputs, 'label': label}\n",
    "\n",
    "\n",
    "preprocessed_dataset = openbookqa_dataset.map(preprocess_examples)\n",
    "\n",
    "print(preprocessed_dataset)\n",
    "print(preprocessed_dataset['train'][0])\n",
    "\n"
   ]
  },
  {
   "cell_type": "code",
   "execution_count": 9,
   "metadata": {},
   "outputs": [
    {
     "name": "stdout",
     "output_type": "stream",
     "text": [
      "{'id': '7-980', 'question_stem': 'The sun is responsible for', 'choices': {'text': ['puppies learning new tricks', 'children growing up and getting old', 'flowers wilting in a vase', 'plants sprouting, blooming and wilting'], 'label': ['A', 'B', 'C', 'D']}, 'answerKey': 'D', 'input_texts': ['The sun is responsible for puppies learning new tricks', 'The sun is responsible for children growing up and getting old', 'The sun is responsible for flowers wilting in a vase', 'The sun is responsible for plants sprouting, blooming and wilting'], 'label': 3}\n"
     ]
    }
   ],
   "source": [
    "# # input_question = openbookqa_dataset['train'][0]['inputs']\n",
    "# # print(\"input_question:\", input_question)\n",
    "# # print()\n",
    "# label = openbookqa_dataset['train'][0]\n",
    "# print(\"label(anwser):\", label)\n",
    "print(preprocessed_dataset['train'][0])"
   ]
  }
 ],
 "metadata": {
  "kernelspec": {
   "display_name": "rnn_trans",
   "language": "python",
   "name": "python3"
  },
  "language_info": {
   "codemirror_mode": {
    "name": "ipython",
    "version": 3
   },
   "file_extension": ".py",
   "mimetype": "text/x-python",
   "name": "python",
   "nbconvert_exporter": "python",
   "pygments_lexer": "ipython3",
   "version": "3.11.8"
  }
 },
 "nbformat": 4,
 "nbformat_minor": 2
}
