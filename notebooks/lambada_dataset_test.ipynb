{
 "cells": [
  {
   "cell_type": "code",
   "execution_count": 10,
   "metadata": {},
   "outputs": [
    {
     "data": {
      "text/plain": [
       "DatasetDict({\n",
       "    test: Dataset({\n",
       "        features: ['text'],\n",
       "        num_rows: 5153\n",
       "    })\n",
       "})"
      ]
     },
     "execution_count": 10,
     "metadata": {},
     "output_type": "execute_result"
    }
   ],
   "source": [
    "from datasets import load_dataset\n",
    "lambada_dataset = load_dataset(\"EleutherAI/lambada_openai\")\n",
    "lambada_dataset\n"
   ]
  },
  {
   "cell_type": "code",
   "execution_count": 11,
   "metadata": {},
   "outputs": [
    {
     "name": "stdout",
     "output_type": "stream",
     "text": [
      "{'text': 'In my palm is a clear stone, and inside it is a small ivory statuette. A guardian angel.\\n\\n\"Figured if you\\'re going to be out at night getting hit by cars, you might as well have some backup.\"\\n\\nI look at him, feeling stunned. Like this is some sort of sign. But as I stare at Harlin, his mouth curved in a confident grin, I don\\'t care about signs'}\n"
     ]
    }
   ],
   "source": [
    "#  see a example\n",
    "train_example = lambada_dataset['test'][0]\n",
    "print(train_example)\n",
    "\n",
    "\n"
   ]
  },
  {
   "cell_type": "code",
   "execution_count": 12,
   "metadata": {},
   "outputs": [],
   "source": [
    "def extract_context_and_target(sample):\n",
    "    # split the docs by words\n",
    "    words = sample['text'].split()\n",
    "    # context is all the words except for the last one\n",
    "    context = \" \".join(words[:-1])\n",
    "    # the last word is the target\n",
    "    target = words[-1]\n",
    "    return {\"context\": context, \"target\": target}\n"
   ]
  },
  {
   "cell_type": "code",
   "execution_count": 13,
   "metadata": {},
   "outputs": [
    {
     "name": "stdout",
     "output_type": "stream",
     "text": [
      "passage:  In my palm is a clear stone, and inside it is a small ivory statuette. A guardian angel. \"Figured if you're going to be out at night getting hit by cars, you might as well have some backup.\" I look at him, feeling stunned. Like this is some sort of sign. But as I stare at Harlin, his mouth curved in a confident grin, I don't care about\n",
      "\n",
      "target:  signs\n"
     ]
    }
   ],
   "source": [
    "# apply preprocessing\n",
    "lambada_dataset = lambada_dataset.map(extract_context_and_target)\n",
    "\n",
    "passage = lambada_dataset['test'][0]['context']\n",
    "print(\"passage: \", passage)\n",
    "print()\n",
    "target = lambada_dataset['test'][0]['target']\n",
    "print(\"target: \", target)"
   ]
  }
 ],
 "metadata": {
  "kernelspec": {
   "display_name": "rnn_trans",
   "language": "python",
   "name": "python3"
  },
  "language_info": {
   "codemirror_mode": {
    "name": "ipython",
    "version": 3
   },
   "file_extension": ".py",
   "mimetype": "text/x-python",
   "name": "python",
   "nbconvert_exporter": "python",
   "pygments_lexer": "ipython3",
   "version": "3.11.8"
  }
 },
 "nbformat": 4,
 "nbformat_minor": 2
}
