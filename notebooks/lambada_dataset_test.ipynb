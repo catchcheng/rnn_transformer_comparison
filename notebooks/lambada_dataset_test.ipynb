{
 "cells": [
  {
   "cell_type": "code",
   "execution_count": 9,
   "metadata": {},
   "outputs": [
    {
     "data": {
      "text/plain": [
       "DatasetDict({\n",
       "    test: Dataset({\n",
       "        features: ['text'],\n",
       "        num_rows: 5153\n",
       "    })\n",
       "})"
      ]
     },
     "execution_count": 9,
     "metadata": {},
     "output_type": "execute_result"
    }
   ],
   "source": [
    "from datasets import load_dataset\n",
    "lambada_dataset = load_dataset(\"EleutherAI/lambada_openai\")\n",
    "lambada_dataset\n"
   ]
  },
  {
   "cell_type": "code",
   "execution_count": 10,
   "metadata": {},
   "outputs": [
    {
     "name": "stdout",
     "output_type": "stream",
     "text": [
      "{'text': 'In my palm is a clear stone, and inside it is a small ivory statuette. A guardian angel.\\n\\n\"Figured if you\\'re going to be out at night getting hit by cars, you might as well have some backup.\"\\n\\nI look at him, feeling stunned. Like this is some sort of sign. But as I stare at Harlin, his mouth curved in a confident grin, I don\\'t care about signs'}\n"
     ]
    }
   ],
   "source": [
    "# 访问训练集中的第一个数据点\n",
    "train_example = lambada_dataset['test'][0]\n",
    "print(train_example)\n",
    "\n",
    "\n"
   ]
  },
  {
   "cell_type": "code",
   "execution_count": 11,
   "metadata": {},
   "outputs": [],
   "source": [
    "def transform_example(example):\n",
    "    # 将文本分割为段落（最后一个单词之前的部分）和目标（最后一个单词）\n",
    "    passage, target = example[\"text\"].rsplit(\" \", 1)\n",
    "    # 返回新的字典，包含passage和target\n",
    "    return {\"passage\": passage, \"target\": \" \" + target}\n"
   ]
  },
  {
   "cell_type": "code",
   "execution_count": 15,
   "metadata": {},
   "outputs": [
    {
     "name": "stderr",
     "output_type": "stream",
     "text": [
      "Map: 100%|██████████| 5153/5153 [00:00<00:00, 18926.70 examples/s]"
     ]
    },
    {
     "name": "stdout",
     "output_type": "stream",
     "text": [
      "passage:  In my palm is a clear stone, and inside it is a small ivory statuette. A guardian angel.\n",
      "\n",
      "\"Figured if you're going to be out at night getting hit by cars, you might as well have some backup.\"\n",
      "\n",
      "I look at him, feeling stunned. Like this is some sort of sign. But as I stare at Harlin, his mouth curved in a confident grin, I don't care about\n",
      "\n",
      "target:   signs\n"
     ]
    },
    {
     "name": "stderr",
     "output_type": "stream",
     "text": [
      "\n"
     ]
    }
   ],
   "source": [
    "# 对训练集、测试集和验证集应用转换\n",
    "lambada_dataset = lambada_dataset.map(transform_example)\n",
    "\n",
    "passage = lambada_dataset['test'][0]['passage']\n",
    "print(\"passage: \", passage)\n",
    "print()\n",
    "target = lambada_dataset['test'][0]['target']\n",
    "print(\"target: \", target)"
   ]
  }
 ],
 "metadata": {
  "kernelspec": {
   "display_name": "rnn_trans",
   "language": "python",
   "name": "python3"
  },
  "language_info": {
   "codemirror_mode": {
    "name": "ipython",
    "version": 3
   },
   "file_extension": ".py",
   "mimetype": "text/x-python",
   "name": "python",
   "nbconvert_exporter": "python",
   "pygments_lexer": "ipython3",
   "version": "3.11.8"
  }
 },
 "nbformat": 4,
 "nbformat_minor": 2
}
