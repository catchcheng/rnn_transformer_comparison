{
 "cells": [
  {
   "cell_type": "code",
   "execution_count": 1,
   "metadata": {},
   "outputs": [],
   "source": [
    "# model_checkpoint = \"t5-small\"\n",
    "# model_checkpoint = \"EleutherAI/pythia-160m\"\n",
    "model_checkpoint = \"RWKV/rwkv-4-169m-pile\""
   ]
  },
  {
   "cell_type": "code",
   "execution_count": 2,
   "metadata": {},
   "outputs": [
    {
     "name": "stderr",
     "output_type": "stream",
     "text": [
      "/opt/conda/envs/llms/lib/python3.10/site-packages/tqdm/auto.py:21: TqdmWarning: IProgress not found. Please update jupyter and ipywidgets. See https://ipywidgets.readthedocs.io/en/stable/user_install.html\n",
      "  from .autonotebook import tqdm as notebook_tqdm\n",
      "Downloading data: 100%|██████████| 6.06M/6.06M [00:00<00:00, 60.4MB/s]\n",
      "Downloading data: 100%|██████████| 347k/347k [00:00<00:00, 5.67MB/s]\n",
      "Downloading data: 100%|██████████| 335k/335k [00:00<00:00, 8.78MB/s]\n",
      "Generating train split: 100%|██████████| 14732/14732 [00:00<00:00, 255970.40 examples/s]\n",
      "Generating test split: 100%|██████████| 819/819 [00:00<00:00, 204667.24 examples/s]\n",
      "Generating validation split: 100%|██████████| 818/818 [00:00<00:00, 218823.95 examples/s]"
     ]
    },
    {
     "name": "stdout",
     "output_type": "stream",
     "text": [
      "DatasetDict({\n",
      "    train: Dataset({\n",
      "        features: ['id', 'dialogue', 'summary'],\n",
      "        num_rows: 14732\n",
      "    })\n",
      "    test: Dataset({\n",
      "        features: ['id', 'dialogue', 'summary'],\n",
      "        num_rows: 819\n",
      "    })\n",
      "    validation: Dataset({\n",
      "        features: ['id', 'dialogue', 'summary'],\n",
      "        num_rows: 818\n",
      "    })\n",
      "})\n"
     ]
    },
    {
     "name": "stderr",
     "output_type": "stream",
     "text": [
      "\n"
     ]
    }
   ],
   "source": [
    "from datasets import load_dataset\n",
    "\n",
    "raw_datasets = load_dataset(\"samsum\")\n",
    "print(raw_datasets)"
   ]
  },
  {
   "cell_type": "code",
   "execution_count": 3,
   "metadata": {},
   "outputs": [
    {
     "name": "stderr",
     "output_type": "stream",
     "text": [
      "Special tokens have been added in the vocabulary, make sure the associated word embeddings are fine-tuned or trained.\n"
     ]
    }
   ],
   "source": [
    "from transformers import AutoTokenizer\n",
    "    \n",
    "tokenizer = AutoTokenizer.from_pretrained(model_checkpoint)\n",
    "if tokenizer.pad_token is None:\n",
    "    tokenizer.pad_token = tokenizer.eos_token\n",
    "    # if tokenizer.eos_token is not None:\n",
    "    #     tokenizer.pad_token = tokenizer.eos_token\n",
    "    # else:\n",
    "    #     # If the tokenizer does not have an EOS token, you need to add a new pad token\n",
    "    #     # This is an example, you may need to adjust it depending on the tokenizer\n",
    "    #     tokenizer.add_special_tokens({'pad_token': '[PAD]'})"
   ]
  },
  {
   "cell_type": "code",
   "execution_count": 4,
   "metadata": {},
   "outputs": [
    {
     "name": "stderr",
     "output_type": "stream",
     "text": [
      "Map: 100%|██████████| 14732/14732 [00:00<00:00, 14866.46 examples/s]\n",
      "Map: 100%|██████████| 819/819 [00:00<00:00, 17660.36 examples/s]\n",
      "Map: 100%|██████████| 818/818 [00:00<00:00, 17888.96 examples/s]"
     ]
    },
    {
     "name": "stdout",
     "output_type": "stream",
     "text": [
      "DatasetDict({\n",
      "    train: Dataset({\n",
      "        features: ['text'],\n",
      "        num_rows: 14732\n",
      "    })\n",
      "    test: Dataset({\n",
      "        features: ['text'],\n",
      "        num_rows: 819\n",
      "    })\n",
      "    validation: Dataset({\n",
      "        features: ['text'],\n",
      "        num_rows: 818\n",
      "    })\n",
      "})\n",
      "{'text': \"Neville: Hi there, does anyone remember what date I got married on?\\r\\nDon: Are you serious?\\r\\nNeville: Dead serious. We're on vacation, and Tina's mad at me about something. I have a strange suspicion that this might have something to do with our wedding anniversary, but I have nowhere to check.\\r\\nWyatt: Hang on, I'll ask my wife.\\r\\nDon: Haha, someone's in a lot of trouble :D\\r\\nWyatt: September 17. I hope you remember the year ;) TL;DR: Wyatt reminds Neville his wedding anniversary is on the 17th of September. Neville's wife is upset and it might be because Neville forgot about their anniversary.\"}\n"
     ]
    },
    {
     "name": "stderr",
     "output_type": "stream",
     "text": [
      "\n"
     ]
    }
   ],
   "source": [
    "\n",
    "def merge_fields(example):\n",
    "        # 直接合并字符串\n",
    "        example['text'] = example['dialogue'] + \" TL;DR: \" + example['summary']\n",
    "        return example\n",
    "\n",
    "transformed_dataset = raw_datasets.map(merge_fields)\n",
    "transformed_dataset = transformed_dataset.remove_columns(raw_datasets['train'].column_names)\n",
    "print(transformed_dataset)\n",
    "\n",
    "print(transformed_dataset['train'][5])\n",
    "\n",
    "\n",
    "\n",
    "# def process_data_to_model_inputs(examples):\n",
    "#         model_inputs = tokenizer(examples[\"text\"])\n",
    "\n",
    "#         # Setup the tokenizer for targets\n",
    "#         labels = tokenizer(text_target=examples[\"text\"])\n",
    "#         model_inputs[\"labels\"] = labels[\"input_ids\"]\n",
    "#         return model_inputs\n",
    "\n",
    "# def tokenize_function(examples):\n",
    "#     return tokenizer(examples[\"text\"])\n",
    "\n",
    "# tokenized_datasets = transformed_dataset.map(tokenize_function, batched=True, num_proc=4, remove_columns=[\"text\"])\n",
    "\n",
    "# train_df = tokenized_datasets[\"train\"].to_pandas()\n",
    "# train_df[\"input_len\"] = train_df[\"input_ids\"].apply(len)\n",
    "# print(\"train split:\")\n",
    "# print(train_df[\"input_len\"].describe())\n",
    "# median_length = train_df[\"input_len\"].median()\n",
    "# print(\"median:\", median_length)\n",
    "\n",
    "\n",
    "# print(tokenized_datasets)\n",
    "# block_size = 128\n",
    "\n",
    "# def group_texts(examples):\n",
    "#     # # Concatenate all texts.\n",
    "#     # concatenated_examples = {k: sum(examples[k], []) for k in examples.keys()}\n",
    "#     # total_length = len(concatenated_examples[list(examples.keys())[0]])\n",
    "#     # # We drop the small remainder, we could add padding if the model supported it instead of this drop, you can\n",
    "#     #     # customize this part to your needs.\n",
    "#     # total_length = (total_length // block_size) * block_size\n",
    "#     # # Split by chunks of max_len.\n",
    "#     # result = {\n",
    "#     #     k: [t[i : i + block_size] for i in range(0, total_length, block_size)]\n",
    "#     #     for k, t in concatenated_examples.items()\n",
    "#     # }\n",
    "#     # result[\"labels\"] = result[\"input_ids\"].copy()\n",
    "\n",
    "#     examples[\"labels\"] = examples[\"input_ids\"].copy()\n",
    "#     return examples\n",
    "\n",
    "# # tokenized_datasets = tokenized_datasets.map(process_data_to_model_inputs, batched=True)\n",
    "\n",
    "# tokenized_datasets = tokenized_datasets.map(\n",
    "#     group_texts,\n",
    "#     batched=True,\n",
    "#     batch_size=1000,\n",
    "#     num_proc=4,\n",
    "# )\n",
    "\n",
    "\n",
    "# # # Remove unnecessary columns\n",
    "# # tokenized_datasets = tokenized_datasets.remove_columns(transformed_dataset['train'].column_names)\n",
    "\n",
    "# print(tokenized_datasets)"
   ]
  },
  {
   "cell_type": "code",
   "execution_count": 5,
   "metadata": {},
   "outputs": [],
   "source": [
    "from transformers import Trainer, AutoModelForCausalLM,TrainingArguments\n",
    "from trl import SFTTrainer\n",
    "model = AutoModelForCausalLM.from_pretrained(model_checkpoint)\n",
    "model.resize_token_embeddings(len(tokenizer))\n",
    "model.config.keys_to_ignore_at_inference = [\"past_key_values\",\"hidden_states\", \"attentions\"]"
   ]
  },
  {
   "cell_type": "code",
   "execution_count": 6,
   "metadata": {},
   "outputs": [],
   "source": [
    "batch_size = 16\n",
    "model_name = model_checkpoint.split(\"/\")[-1]\n",
    "args = TrainingArguments(\n",
    "    f\"{model_name}-finetuned-xsum\",\n",
    "    evaluation_strategy = \"epoch\",\n",
    "    learning_rate=2e-5,\n",
    "    per_device_train_batch_size=batch_size,\n",
    "    per_device_eval_batch_size=batch_size,\n",
    "    weight_decay=0.01,\n",
    "    save_total_limit=1,\n",
    "    num_train_epochs=1,\n",
    "    # fp16=True,\n",
    "    # push_to_hub=True,\n",
    ")"
   ]
  },
  {
   "cell_type": "code",
   "execution_count": 7,
   "metadata": {},
   "outputs": [
    {
     "name": "stderr",
     "output_type": "stream",
     "text": [
      "Map: 100%|██████████| 14732/14732 [00:02<00:00, 6387.05 examples/s]\n",
      "Map: 100%|██████████| 818/818 [00:00<00:00, 6595.73 examples/s]\n",
      "/opt/conda/envs/llms/lib/python3.10/site-packages/accelerate/accelerator.py:432: FutureWarning: Passing the following arguments to `Accelerator` is deprecated and will be removed in version 1.0 of Accelerate: dict_keys(['dispatch_batches', 'split_batches', 'even_batches', 'use_seedable_sampler']). Please pass an `accelerate.DataLoaderConfiguration` instead: \n",
      "dataloader_config = DataLoaderConfiguration(dispatch_batches=None, split_batches=False, even_batches=True, use_seedable_sampler=True)\n",
      "  warnings.warn(\n"
     ]
    }
   ],
   "source": [
    "trainer = SFTTrainer(\n",
    "    model,\n",
    "    args,\n",
    "    train_dataset=transformed_dataset[\"train\"],\n",
    "    eval_dataset=transformed_dataset[\"validation\"],\n",
    "    tokenizer=tokenizer,\n",
    "    dataset_text_field=\"text\",\n",
    "    max_seq_length=256 #padding的最大长度，这里256是数据集的长度的百分之75的四分位数\n",
    ")"
   ]
  },
  {
   "cell_type": "code",
   "execution_count": 8,
   "metadata": {},
   "outputs": [
    {
     "data": {
      "text/html": [
       "\n",
       "    <div>\n",
       "      \n",
       "      <progress value='921' max='921' style='width:300px; height:20px; vertical-align: middle;'></progress>\n",
       "      [921/921 1:21:20, Epoch 1/1]\n",
       "    </div>\n",
       "    <table border=\"1\" class=\"dataframe\">\n",
       "  <thead>\n",
       " <tr style=\"text-align: left;\">\n",
       "      <th>Epoch</th>\n",
       "      <th>Training Loss</th>\n",
       "      <th>Validation Loss</th>\n",
       "    </tr>\n",
       "  </thead>\n",
       "  <tbody>\n",
       "    <tr>\n",
       "      <td>1</td>\n",
       "      <td>2.586100</td>\n",
       "      <td>2.529480</td>\n",
       "    </tr>\n",
       "  </tbody>\n",
       "</table><p>"
      ],
      "text/plain": [
       "<IPython.core.display.HTML object>"
      ]
     },
     "metadata": {},
     "output_type": "display_data"
    },
    {
     "data": {
      "text/plain": [
       "TrainOutput(global_step=921, training_loss=2.549298778289563, metrics={'train_runtime': 4886.6627, 'train_samples_per_second': 3.015, 'train_steps_per_second': 0.188, 'total_flos': 2954621536690176.0, 'train_loss': 2.549298778289563, 'epoch': 1.0})"
      ]
     },
     "execution_count": 8,
     "metadata": {},
     "output_type": "execute_result"
    }
   ],
   "source": [
    "trainer.train()"
   ]
  },
  {
   "cell_type": "code",
   "execution_count": 9,
   "metadata": {},
   "outputs": [
    {
     "data": {
      "text/html": [
       "\n",
       "    <div>\n",
       "      \n",
       "      <progress value='52' max='52' style='width:300px; height:20px; vertical-align: middle;'></progress>\n",
       "      [52/52 00:50]\n",
       "    </div>\n",
       "    "
      ],
      "text/plain": [
       "<IPython.core.display.HTML object>"
      ]
     },
     "metadata": {},
     "output_type": "display_data"
    },
    {
     "name": "stdout",
     "output_type": "stream",
     "text": [
      "Perplexity: 12.55\n"
     ]
    }
   ],
   "source": [
    "import math\n",
    "eval_results = trainer.evaluate()\n",
    "print(f\"Perplexity: {math.exp(eval_results['eval_loss']):.2f}\")"
   ]
  },
  {
   "cell_type": "markdown",
   "metadata": {},
   "source": [
    "实验记录：\n",
    "\n",
    "EleutherAI/pythia-160m zero-shot: 23.15 Perplexity\n",
    "\n",
    "EleutherAI/pythia-160m vinilla finetuning: 11.92 Perplexity （训练时间15分钟）gpu消耗6600\n",
    "\n",
    "RWKV/rwkv-4-169m-pile zero-shot: 20.55 Perplexity\n",
    "\n",
    "RWKV/rwkv-4-169m-pile vinilla finetuning: 12.55 Perplexity （训练时间一小时20分钟） gpu消耗10757"
   ]
  }
 ],
 "metadata": {
  "kernelspec": {
   "display_name": "llms",
   "language": "python",
   "name": "python3"
  },
  "language_info": {
   "codemirror_mode": {
    "name": "ipython",
    "version": 3
   },
   "file_extension": ".py",
   "mimetype": "text/x-python",
   "name": "python",
   "nbconvert_exporter": "python",
   "pygments_lexer": "ipython3",
   "version": "3.10.12"
  }
 },
 "nbformat": 4,
 "nbformat_minor": 2
}
