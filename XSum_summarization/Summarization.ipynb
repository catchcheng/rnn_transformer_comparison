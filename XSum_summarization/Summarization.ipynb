{
 "cells": [
  {
   "cell_type": "markdown",
   "id": "e4a96126-9611-41d0-b7a6-448a99cdb999",
   "metadata": {},
   "source": [
    "## Summarization"
   ]
  },
  {
   "cell_type": "code",
   "execution_count": 1,
   "id": "7dd587b0-7845-476e-ba5c-649de05ad59e",
   "metadata": {},
   "outputs": [],
   "source": [
    "# ! pip install datasets evaluate transformers rouge-score nltk"
   ]
  },
  {
   "cell_type": "code",
   "execution_count": 2,
   "id": "df9102d3-6780-4273-aef2-1880492a8e74",
   "metadata": {},
   "outputs": [],
   "source": [
    "# model_checkpoint = \"t5-small\"\n",
    "# model_checkpoint = \"EleutherAI/pythia-160m-deduped\"\n",
    "model_checkpoint = \"RWKV/rwkv-4-169m-pile\""
   ]
  },
  {
   "cell_type": "code",
   "execution_count": 3,
   "id": "d8e1864c-7dba-4f8a-a271-abe4692250ae",
   "metadata": {},
   "outputs": [
    {
     "name": "stderr",
     "output_type": "stream",
     "text": [
      "2024-03-28 10:13:28.426476: I tensorflow/core/util/port.cc:111] oneDNN custom operations are on. You may see slightly different numerical results due to floating-point round-off errors from different computation orders. To turn them off, set the environment variable `TF_ENABLE_ONEDNN_OPTS=0`.\n",
      "2024-03-28 10:13:28.427875: I tensorflow/tsl/cuda/cudart_stub.cc:28] Could not find cuda drivers on your machine, GPU will not be used.\n",
      "2024-03-28 10:13:28.446498: E tensorflow/compiler/xla/stream_executor/cuda/cuda_dnn.cc:9342] Unable to register cuDNN factory: Attempting to register factory for plugin cuDNN when one has already been registered\n",
      "2024-03-28 10:13:28.446515: E tensorflow/compiler/xla/stream_executor/cuda/cuda_fft.cc:609] Unable to register cuFFT factory: Attempting to register factory for plugin cuFFT when one has already been registered\n",
      "2024-03-28 10:13:28.446528: E tensorflow/compiler/xla/stream_executor/cuda/cuda_blas.cc:1518] Unable to register cuBLAS factory: Attempting to register factory for plugin cuBLAS when one has already been registered\n",
      "2024-03-28 10:13:28.450408: I tensorflow/core/platform/cpu_feature_guard.cc:182] This TensorFlow binary is optimized to use available CPU instructions in performance-critical operations.\n",
      "To enable the following instructions: AVX2 AVX_VNNI FMA, in other operations, rebuild TensorFlow with the appropriate compiler flags.\n",
      "2024-03-28 10:13:28.912245: W tensorflow/compiler/tf2tensorrt/utils/py_utils.cc:38] TF-TRT Warning: Could not find TensorRT\n",
      "/home/cheng-ubuntu/anaconda3/envs/6758hmk4/lib/python3.11/site-packages/datasets/load.py:1461: FutureWarning: The repository for xsum contains custom code which must be executed to correctly load the dataset. You can inspect the repository content at https://hf.co/datasets/xsum\n",
      "You can avoid this message in future by passing the argument `trust_remote_code=True`.\n",
      "Passing `trust_remote_code=True` will be mandatory to load this dataset from the next major release of `datasets`.\n",
      "  warnings.warn(\n"
     ]
    },
    {
     "data": {
      "text/plain": [
       "DatasetDict({\n",
       "    train: Dataset({\n",
       "        features: ['document', 'summary', 'id'],\n",
       "        num_rows: 204045\n",
       "    })\n",
       "    validation: Dataset({\n",
       "        features: ['document', 'summary', 'id'],\n",
       "        num_rows: 11332\n",
       "    })\n",
       "    test: Dataset({\n",
       "        features: ['document', 'summary', 'id'],\n",
       "        num_rows: 11334\n",
       "    })\n",
       "})"
      ]
     },
     "execution_count": 3,
     "metadata": {},
     "output_type": "execute_result"
    }
   ],
   "source": [
    "from datasets import load_dataset\n",
    "from evaluate import load\n",
    "\n",
    "raw_datasets = load_dataset(\"xsum\")\n",
    "metric = load(\"rouge\")\n",
    "raw_datasets"
   ]
  },
  {
   "cell_type": "code",
   "execution_count": 4,
   "id": "1a9d1499-342b-40b0-b514-0855af14e95d",
   "metadata": {},
   "outputs": [
    {
     "data": {
      "text/plain": [
       "{'document': 'The full cost of damage in Newton Stewart, one of the areas worst affected, is still being assessed.\\nRepair work is ongoing in Hawick and many roads in Peeblesshire remain badly affected by standing water.\\nTrains on the west coast mainline face disruption due to damage at the Lamington Viaduct.\\nMany businesses and householders were affected by flooding in Newton Stewart after the River Cree overflowed into the town.\\nFirst Minister Nicola Sturgeon visited the area to inspect the damage.\\nThe waters breached a retaining wall, flooding many commercial properties on Victoria Street - the main shopping thoroughfare.\\nJeanette Tate, who owns the Cinnamon Cafe which was badly affected, said she could not fault the multi-agency response once the flood hit.\\nHowever, she said more preventative work could have been carried out to ensure the retaining wall did not fail.\\n\"It is difficult but I do think there is so much publicity for Dumfries and the Nith - and I totally appreciate that - but it is almost like we\\'re neglected or forgotten,\" she said.\\n\"That may not be true but it is perhaps my perspective over the last few days.\\n\"Why were you not ready to help us a bit more when the warning and the alarm alerts had gone out?\"\\nMeanwhile, a flood alert remains in place across the Borders because of the constant rain.\\nPeebles was badly hit by problems, sparking calls to introduce more defences in the area.\\nScottish Borders Council has put a list on its website of the roads worst affected and drivers have been urged not to ignore closure signs.\\nThe Labour Party\\'s deputy Scottish leader Alex Rowley was in Hawick on Monday to see the situation first hand.\\nHe said it was important to get the flood protection plan right but backed calls to speed up the process.\\n\"I was quite taken aback by the amount of damage that has been done,\" he said.\\n\"Obviously it is heart-breaking for people who have been forced out of their homes and the impact on businesses.\"\\nHe said it was important that \"immediate steps\" were taken to protect the areas most vulnerable and a clear timetable put in place for flood prevention plans.\\nHave you been affected by flooding in Dumfries and Galloway or the Borders? Tell us about your experience of the situation and how it was handled. Email us on selkirk.news@bbc.co.uk or dumfries@bbc.co.uk.',\n",
       " 'summary': 'Clean-up operations are continuing across the Scottish Borders and Dumfries and Galloway after flooding caused by Storm Frank.',\n",
       " 'id': '35232142'}"
      ]
     },
     "execution_count": 4,
     "metadata": {},
     "output_type": "execute_result"
    }
   ],
   "source": [
    "raw_datasets[\"train\"][0]"
   ]
  },
  {
   "cell_type": "code",
   "execution_count": 5,
   "id": "999ac534-f88b-49a4-bf8c-be9afeb3f8ee",
   "metadata": {},
   "outputs": [],
   "source": [
    "import datasets\n",
    "import random\n",
    "import pandas as pd\n",
    "from IPython.display import display, HTML\n",
    "\n",
    "def show_random_elements(dataset, num_examples=5):\n",
    "    assert num_examples <= len(dataset), \"Can't pick more elements than there are in the dataset.\"\n",
    "    picks = []\n",
    "    for _ in range(num_examples):\n",
    "        pick = random.randint(0, len(dataset)-1)\n",
    "        while pick in picks:\n",
    "            pick = random.randint(0, len(dataset)-1)\n",
    "        picks.append(pick)\n",
    "    \n",
    "    df = pd.DataFrame(dataset[picks])\n",
    "    for column, typ in dataset.features.items():\n",
    "        if isinstance(typ, datasets.ClassLabel):\n",
    "            df[column] = df[column].transform(lambda i: typ.names[i])\n",
    "    display(HTML(df.to_html()))"
   ]
  },
  {
   "cell_type": "code",
   "execution_count": 6,
   "id": "d71ea127-3b28-41c9-81f5-d54160af9322",
   "metadata": {},
   "outputs": [
    {
     "data": {
      "text/html": [
       "<table border=\"1\" class=\"dataframe\">\n",
       "  <thead>\n",
       "    <tr style=\"text-align: right;\">\n",
       "      <th></th>\n",
       "      <th>document</th>\n",
       "      <th>summary</th>\n",
       "      <th>id</th>\n",
       "    </tr>\n",
       "  </thead>\n",
       "  <tbody>\n",
       "    <tr>\n",
       "      <th>0</th>\n",
       "      <td>The 16-year-old was suffocated and her body parts were found at a house in the Barton Hill area of Bristol on 2 March.\\nHer family said the service, which took place at St Ambrose Church in Whitehall, would be an occasion to celebrate Becky's life.\\nStepbrother Nathan Matthews, 28, from Warmley, is charged with her murder. He is yet to enter a plea.\\nBBC Points West's Fiona Lamdin, speaking from outside the church, said over 200 people lined the street for the funeral procession.\\nWhite horses wearing pink feathers pulled a white carriage, decorated with pink roses, containing Becky's white coffin.\\nThe coffin was decorated with pink roses and painted with a blue ribbon and was carried inside St Ambrose Church by her family, including her father, Darren Galsworthy.\\n\"No parent, relative or friend would expect to lose a loved one at such a tender age,\" her family said.\\n\"Becky... had so much to look forward to and love to share with all that were close and dear to her.\\n\"Her death has touched the hearts of so many people.\\n\"It is because of your kind support that we know the day will be a fitting tribute to a much-loved daughter, grand-daughter, sister, niece and friend.\"\\nBBC News Online's Ian Parker, who also went to the church, said a single teddy bear had been attached to the church gate and people lined the streets, most wearing black, carrying pink roses.\\nSpeaking inside the church, the Reverend David James told the congregation: \"Becky has been restored into the heart of the community where she belongs.\\n\"It is not a goodbye.\"\\nA tribute from Mr Galsworthy, read by Mr James, detailed his \"shy\" daughter's first days at school and how she was bullied at secondary school.\\n\"But [after] a lot of care, we were able to get our Becky back,\" Mr James added.\\nThe congregation and the dozens of people gathered outside the church also heard how Becky loved animals, music and going to the cinema.\\n\"Becky left a void and touched the heart of the nation. Just look what your short life has achieved,\" Mr James added.\\nThe first hymn was Lord of The Dance.\\nAfter the funeral, there was applause when a white dove was released and Becky's coffin was loaded back into the carriage.\\nThe service was followed by a private interment for Becky's family and friends at Avon View Cemetery.\\nAt the scene: Ian Parker, BBC News\\nA few weeks ago, one of Becky's friends said they wanted to give her the send off she deserved - and that is what she got today.\\nHundreds lined the quiet street in the Whitehall area of Bristol where most wore black.  Everybody was holding a pink rose.\\nAt 11:00 BST the church bells stopped ringing and the street fell silent. The white carriage carrying Becky's coffin arrived at the church pulled by four white horses.\\nThe Reverend David James said the church could seat 350 but there were many standing and dozens more outside listening on a loudspeaker.\\nBecky, 16, from Bristol, was reported missing on 19 February.\\nOn Friday police revealed post-mortem tests showed she had been suffocated.\\nHer stepbrother's girlfriend Shauna Hoare, 21, has been charged with perverting the course of justice.\\nFour other defendants, Jaydene Parsons, 23, James Ireland, 23, and Karl and Donovan Demetrius, both 29, have been charged with assisting an offender.</td>\n",
       "      <td>The funeral of teenager Becky Watts, who was found dead after going missing earlier this year, has taken place.</td>\n",
       "      <td>32335353</td>\n",
       "    </tr>\n",
       "    <tr>\n",
       "      <th>1</th>\n",
       "      <td>The Trainspotting author has agreed to become patron of The Leith Theatre and launch a new fundraising drive.\\nThe Leith Theatre Trust took over the lease of the art deco venue from City of Edinburgh Council last year.\\nIt was nearly sold off by the council in 2004 to pay for the revamp of the King's Theatre before an outcry from locals forced a rethink.\\nThe fundraising project needs £250,000.\\nMr Welsh, who was born in Leith in 1961, believes it could help Edinburgh's music scene recover from the loss of a number of city centre venues.\\nIt will come back to life temporarily in May when it will be used as the latest pop-up venue for the Hidden Door Festival, which specialises in transforming run-down spaces.\\nA major clean-up for that event and a subsequent overhaul, which the £250,000 appeal is expected to pay for, will allow it to be used for other events at the Edinburgh International Festival and Fringe.\\nThe project would see the full restoration of the 1,500-capacity auditorium to its former glory, the creation of a number of permanent performance spaces and modern backstage facilities.\\nA longer-term vision for the building is expected to cost up to £13m.\\nThe origins of the theatre go back to 1920 when Leith was officially amalgamated into the city of Edinburgh.\\nBuilt in 1932 as a gift for Leithers, it was forced to close in 1941 after bomb damage during the war.\\nIt did not re-open until 1961 but went on to host festival shows and attract some of the biggest names in the music business including ACDC, Thin Lizzy and Kraftwerk.\\nHowever, it gradually fell into disrepair in the late 1980s and eventually had to be closed down by the council.\\nMr Welsh said: \"I used to play outside the Leith Theatre as a kid and always remember it as an impressive but dormant force.\\n\"I recall seeing Mott the Hoople play there and thought that it was the start of good times for the impressive space.\\n\"It wasn't to be and it lay empty for several decades. Now Leith Theatre is about to come of age again.\\n\"The loss of city centre venues and the gentrification of Leith, making it no longer a no-go area for tourists, ensure its development as a city-wide resource is essential. And it is, and will remain, a hub for the local community.\"\\nTrust board member Mike Griffith, a former administrative director of the Traverse Theatre, said: \"It actually took about four years to reach agreement with the city council for us to take on a lease.\\n\"Even after we got into the building there were a whole load of things that we didn't know about.\\n\"The main thing that has happened since then is that repairs have been carried out to the roof by the council to make sure the building is wind and water-tight.\\n\"It will need a bit of a tidy up for the Hidden Door Festival.\\n\"In terms of further work, it's going to be community spirit that gets things going. There's not a huge amount of funding around for something like this.\"</td>\n",
       "      <td>Irvine Welsh is to spearhead a campaign aimed at reviving a neglected theatre in Leith 30 years after its last show.</td>\n",
       "      <td>38508793</td>\n",
       "    </tr>\n",
       "    <tr>\n",
       "      <th>2</th>\n",
       "      <td>The Alex started brightly, and recalled forward George Cooper had a shot blocked by goalkeeper Glenn Morris before Jordan Bowery missed a sitter from six yards from Chris Dagnall's pass.\\nMorris parried a goalbound drive from Cooper and Crewe threatened again when Bowery put a deflected shot wide, after Zoumana Bakayogo had forced another save from Morris.\\nThe visitors deservedly went ahead when James Jones fired in his eighth league goal of the season from the penalty spot, after Josh Lelan brought down Ben Nugent.\\nMorris had previously saved two successive penalties, but was sent the wrong way in the 36th minute.\\nCrewe got firmly on top by scoring twice in two minutes at the start of the second half, with goals from Bowery and Dagnall.\\nBowery rifled his first goal for the club in the 51st minute from a pass by Cooper, and then Callum Cooke set up Dagnall for the striker to stroke home his 10th goal of the season in all competitions.\\nStriker Rhys Murphy carried most threat for below-par Crawley, forcing saves from Ben Garratt either side of the interval and striking the crossbar late on.\\nMatch report supplied by the Press Association.\\nMatch ends, Crawley Town 0, Crewe Alexandra 3.\\nSecond Half ends, Crawley Town 0, Crewe Alexandra 3.\\nAttempt saved. Rhys Murphy (Crawley Town) right footed shot from outside the box is saved in the centre of the goal.\\nRhys Murphy (Crawley Town) hits the bar with a right footed shot from outside the box.\\nAttempt missed. Billy Clifford (Crawley Town) right footed shot from outside the box misses to the right.\\nSubstitution, Crewe Alexandra. Callum Ainley replaces Chris Dagnall.\\nAttempt missed. Billy Bingham (Crewe Alexandra) left footed shot from outside the box is high and wide to the left.\\nSubstitution, Crewe Alexandra. Alex Kiwomya replaces George Cooper.\\nJosh Yorwerth (Crawley Town) is shown the yellow card for a bad foul.\\nFoul by Josh Yorwerth (Crawley Town).\\nGeorge Cooper (Crewe Alexandra) wins a free kick in the defensive half.\\nCorner,  Crawley Town. Conceded by Zoumana Bakayogo.\\nCorner,  Crawley Town. Conceded by Ben Garratt.\\nCorner,  Crawley Town. Conceded by Jordan Bowery.\\nCorner,  Crawley Town. Conceded by Zoumana Bakayogo.\\nAttempt missed. Rhys Murphy (Crawley Town) header from the left side of the six yard box is close, but misses to the left.\\nCorner,  Crawley Town. Conceded by Ben Garratt.\\nFoul by Josh Payne (Crawley Town).\\nOliver Turton (Crewe Alexandra) wins a free kick on the right wing.\\nCorner,  Crawley Town. Conceded by Callum Cooke.\\nAttempt blocked. George Cooper (Crewe Alexandra) right footed shot from the centre of the box is blocked.\\nZoumana Bakayogo (Crewe Alexandra) is shown the yellow card for a bad foul.\\nEnzio Boldewijn (Crawley Town) wins a free kick in the defensive half.\\nFoul by Zoumana Bakayogo (Crewe Alexandra).\\nCorner,  Crawley Town. Conceded by Zoumana Bakayogo.\\nJosh Lelan (Crawley Town) wins a free kick in the defensive half.\\nFoul by George Cooper (Crewe Alexandra).\\nSubstitution, Crawley Town. Josh Payne replaces Jimmy Smith.\\nFoul by Billy Bingham (Crewe Alexandra).\\nConor Henderson (Crawley Town) wins a free kick in the defensive half.\\nAttempt blocked. Billy Clifford (Crawley Town) right footed shot from outside the box is blocked.\\nFoul by Ben Nugent (Crewe Alexandra).\\nJosh Yorwerth (Crawley Town) wins a free kick in the defensive half.\\nFoul by Rhys Murphy (Crawley Town).\\nOliver Turton (Crewe Alexandra) wins a free kick in the defensive half.\\nFoul by Conor Henderson (Crawley Town).\\nJames Jones (Crewe Alexandra) wins a free kick in the attacking half.\\nFoul by Enzio Boldewijn (Crawley Town).\\nCallum Cooke (Crewe Alexandra) wins a free kick in the attacking half.\\nBilly Clifford (Crawley Town) wins a free kick on the right wing.</td>\n",
       "      <td>Crewe eased their relegation fears with a convincing victory at Crawley to send Dermot Drummy's men crashing to a fifth defeat in their last six home games.</td>\n",
       "      <td>39188612</td>\n",
       "    </tr>\n",
       "    <tr>\n",
       "      <th>3</th>\n",
       "      <td>Price played as a hooker for Cross Keys and had a loan spell with Glasgow last season.\\nThe 29-year-old is now focused on darts and will face 2014 runner-up Peter Wright in the first round.\\n\"I've really got a decent future ahead of me in darts rather than rugby,\" he said.\\n\"It didn't really work out with me professionally in rugby. I was only with Glasgow for a couple of weeks on loan and I was only playing Premiership semi-professional.\\n\"I've played only this year with the darts and lived up to it with a couple of the big names.\\n\"I went to qualifying school in January and was lucky enough to get through on the second day and win my tour card.\\n\"I had to make a decision whether to stick with the rugby or go with darts and I think it's gone with darts now.\"\\nPrice finished 39th on the Order of Merit to claim the eighth of 16 places that were on offer to non-qualified players for the PDC World Championship.\\nScotland's Wright, Price's first round opponent on Friday, lost 7-4 to Michael van Gerwen in last year's final.\\n\"I'm a little bit nervous but I just can't wait and looking forward to Friday night,\" Price added.\\n\"I'm on the Pro Tour and mixing it with the top players week in week out. Since January I've come a million miles with my game.\\n\"The top players have brought my game forward a lot.\"\\nPrice is one of three Welsh representatives at this year's PDC World Championship, which begins on Thursday at London's Alexandra Palace.\\nFormer BDO World champion Mark Webster will face Dutchman Ron Meulenkamp on Sunday, with Jamie Lewis playing sixth seed James Wade later that day.</td>\n",
       "      <td>Gerwyn Price is relishing his PDC World Championship debut after ditching his career as a professional rugby player to concentrate on darts.</td>\n",
       "      <td>30525284</td>\n",
       "    </tr>\n",
       "    <tr>\n",
       "      <th>4</th>\n",
       "      <td>Media playback is not supported on this device\\nWarren Gatland's side tour New Zealand next summer, and are underdogs to win the series against the world champions.\\nBut Jones feels the Lions are capable of toppling the All Blacks for the first time since 1971.\\n\"There are definite weaknesses in the New Zealand side,\" Jones told BBC Sport.\\n\"The Lions have to attack those weaknesses and then play to their strengths.\"\\nSteve Hansen's All Blacks have not lost a Test at home since 2009, a run of 43 games, but Jones added: \"The Lions have a great chance.\\n\"Of course it is going to be tough, but out of the four teams [England, Scotland, Wales and Ireland], they can put out a great squad of 35, 36 players more than capable of taking the Kiwis on.\"\\nJones was backed to coach the Lions himself after guiding England to a Grand Slam and a series whitewash of Australia, but was unavailable because of his commitment to the Rugby Football Union.\\nHowever, he feels the Lions have the right man in Gatland, who led the Lions to victory in Australia in 2013.\\nGatland, confirmed as Lions coach last Wednesday, will lead the team until the end of the tour next July, having taken a sabbatical from his job as Wales head coach.\\n\"It's a great appointment,\" Jones said. \"Warren has done it before, and he has a great appreciation of European rugby.\\n\"He knows the players in England, Scotland and Ireland - obviously he knows the Welsh players - so he will do a great job.\"\\nJones' focus is now on the first match of England's autumn series, against South Africa at Twickenham, with the squad named at the end of this month.\\n\"We always ask the players to go back to their clubs and perform like international players,\" Jones said.\\n\"So if players don't perform at that level, then the selection will change.\"\\nEngland face the Springboks on 12 November, before matches against Fiji, Argentina and Australia.</td>\n",
       "      <td>The British and Irish Lions have a \"great chance\" of beating a New Zealand side with \"definite weaknesses\", says England head coach Eddie Jones.</td>\n",
       "      <td>37361400</td>\n",
       "    </tr>\n",
       "  </tbody>\n",
       "</table>"
      ],
      "text/plain": [
       "<IPython.core.display.HTML object>"
      ]
     },
     "metadata": {},
     "output_type": "display_data"
    }
   ],
   "source": [
    "show_random_elements(raw_datasets[\"train\"])"
   ]
  },
  {
   "cell_type": "code",
   "execution_count": 7,
   "id": "ad9e2da2-922b-4743-a439-577c89a26b35",
   "metadata": {},
   "outputs": [
    {
     "data": {
      "text/plain": [
       "EvaluationModule(name: \"rouge\", module_type: \"metric\", features: [{'predictions': Value(dtype='string', id='sequence'), 'references': Sequence(feature=Value(dtype='string', id='sequence'), length=-1, id=None)}, {'predictions': Value(dtype='string', id='sequence'), 'references': Value(dtype='string', id='sequence')}], usage: \"\"\"\n",
       "Calculates average rouge scores for a list of hypotheses and references\n",
       "Args:\n",
       "    predictions: list of predictions to score. Each prediction\n",
       "        should be a string with tokens separated by spaces.\n",
       "    references: list of reference for each prediction. Each\n",
       "        reference should be a string with tokens separated by spaces.\n",
       "    rouge_types: A list of rouge types to calculate.\n",
       "        Valid names:\n",
       "        `\"rouge{n}\"` (e.g. `\"rouge1\"`, `\"rouge2\"`) where: {n} is the n-gram based scoring,\n",
       "        `\"rougeL\"`: Longest common subsequence based scoring.\n",
       "        `\"rougeLsum\"`: rougeLsum splits text using `\"\n",
       "\"`.\n",
       "        See details in https://github.com/huggingface/datasets/issues/617\n",
       "    use_stemmer: Bool indicating whether Porter stemmer should be used to strip word suffixes.\n",
       "    use_aggregator: Return aggregates if this is set to True\n",
       "Returns:\n",
       "    rouge1: rouge_1 (f1),\n",
       "    rouge2: rouge_2 (f1),\n",
       "    rougeL: rouge_l (f1),\n",
       "    rougeLsum: rouge_lsum (f1)\n",
       "Examples:\n",
       "\n",
       "    >>> rouge = evaluate.load('rouge')\n",
       "    >>> predictions = [\"hello there\", \"general kenobi\"]\n",
       "    >>> references = [\"hello there\", \"general kenobi\"]\n",
       "    >>> results = rouge.compute(predictions=predictions, references=references)\n",
       "    >>> print(results)\n",
       "    {'rouge1': 1.0, 'rouge2': 1.0, 'rougeL': 1.0, 'rougeLsum': 1.0}\n",
       "\"\"\", stored examples: 0)"
      ]
     },
     "execution_count": 7,
     "metadata": {},
     "output_type": "execute_result"
    }
   ],
   "source": [
    "metric"
   ]
  },
  {
   "cell_type": "code",
   "execution_count": 8,
   "id": "d3904a88-f295-4d51-9fb3-26454cea1f9d",
   "metadata": {},
   "outputs": [
    {
     "data": {
      "text/plain": [
       "{'rouge1': 1.0, 'rouge2': 1.0, 'rougeL': 1.0, 'rougeLsum': 1.0}"
      ]
     },
     "execution_count": 8,
     "metadata": {},
     "output_type": "execute_result"
    }
   ],
   "source": [
    "fake_preds = [\"hello there\", \"general kenobi\"]\n",
    "fake_labels = [\"hello there\", \"general kenobi\"]\n",
    "metric.compute(predictions=fake_preds, references=fake_labels)"
   ]
  },
  {
   "cell_type": "code",
   "execution_count": 9,
   "id": "2d812879-32af-48ef-9e81-634882dde1b4",
   "metadata": {},
   "outputs": [
    {
     "name": "stderr",
     "output_type": "stream",
     "text": [
      "Special tokens have been added in the vocabulary, make sure the associated word embeddings are fine-tuned or trained.\n"
     ]
    }
   ],
   "source": [
    "from transformers import AutoTokenizer\n",
    "    \n",
    "tokenizer = AutoTokenizer.from_pretrained(model_checkpoint)"
   ]
  },
  {
   "cell_type": "code",
   "execution_count": 10,
   "id": "6526973e-baa0-4116-a8ae-4759a7539330",
   "metadata": {},
   "outputs": [],
   "source": [
    "if model_checkpoint in [\"t5-small\", \"EleutherAI/pythia-160m-deduped\", \"RWKV/rwkv-4-169m-pile\"]:\n",
    "    prefix = \"summarize: \"\n",
    "else:\n",
    "    prefix = \"\""
   ]
  },
  {
   "cell_type": "code",
   "execution_count": 11,
   "id": "b1d772cf-0cf8-47f3-bba9-21d1e36669c3",
   "metadata": {},
   "outputs": [
    {
     "data": {
      "text/plain": [
       "{'input_ids': [[2204, 4175, 907, 27, 380, 2120, 2105, 273, 4723, 275, 19608, 19498, 13, 581, 273, 253, 3672, 9065, 5876, 13, 310, 1335, 1146, 7515, 15, 187, 6802, 1094, 789, 310, 10800, 275, 9221, 781, 285, 1142, 13939, 275, 367, 1796, 67, 1417, 11094, 3464, 16426, 5876, 407, 6306, 1824, 15, 187, 14463, 968, 327, 253, 8935, 8852, 2022, 1282, 2454, 20638, 1955, 281, 4723, 387, 253, 418, 6472, 1299, 17721, 324, 10475, 15, 187, 10195, 9341, 285, 11692, 398, 497, 5876, 407, 28037, 275, 19608, 19498, 846, 253, 7121, 330, 658, 19068, 264, 715, 253, 3874, 15, 187, 6407, 8308, 12951, 6836, 43388, 32719, 11580, 253, 2170, 281, 16030, 253, 4723, 15, 187, 510, 12685, 35369, 247, 26179, 3402, 13, 28037, 1142, 6264, 3607, 327, 16225, 5720, 428, 253, 2022, 12701, 11080, 17937, 15, 187, 36751, 5464, 42486, 13, 665, 21186, 253, 330, 27992, 45013, 534, 369, 16426, 5876, 13, 753, 703, 812, 417, 9331, 253, 4471, 14, 47746, 2380, 2378, 253, 10802, 4352, 15, 187, 6436, 13, 703, 753, 625, 3657, 800, 789, 812, 452, 644, 4824, 562, 281, 5416, 253, 26179, 3402, 858, 417, 1891, 15, 187, 3, 1147, 310, 2834, 533, 309, 513, 1158, 627, 310, 594, 1199, 29957, 323, 38004, 71, 2246, 285, 253, 427, 334, 428, 285, 309, 9106, 11435, 326, 428, 533, 352, 310, 2761, 751, 359, 1472, 22459, 390, 14454, 937, 703, 753, 15, 187, 3, 2773, 778, 417, 320, 2032, 533, 352, 310, 4931, 619, 8668, 689, 253, 1390, 1643, 1897, 15, 187, 3, 4967, 497, 368, 417, 4704, 281, 1361, 441, 247, 2372, 625, 672, 253, 9734, 285, 253, 13965, 34854, 574, 4783, 562, 865, 187, 18978, 13, 247, 10802, 10028, 4558, 275, 1659, 2439, 253, 378, 6609, 984, 273, 253, 3638, 9313, 15, 187, 49, 1796, 9143, 369, 16426, 4352, 407, 3237, 13, 13673, 272, 5841, 281, 9569, 625, 809, 2979, 275, 253, 2170, 15, 187, 22384, 763, 378, 6609, 6456, 556, 1691, 247, 1618, 327, 697, 4422, 273, 253, 13939, 9065, 5876, 285, 10865, 452, 644, 18343, 417, 281, 11823, 14230, 7871, 15, 187, 510, 15702, 7021, 434, 19041, 17960, 6657, 6539, 15784, 2205, 369, 275, 9221, 781, 327, 7216, 281, 923, 253, 4112, 806, 1133, 15, 187, 1328, 753, 352, 369, 1774, 281, 755, 253, 10802, 6055, 2098, 987, 533, 17245, 5841, 281, 3885, 598, 253, 1232, 15, 187, 3, 42, 369, 3240, 2668, 490, 471, 407, 253, 2408, 273, 4723, 326, 556, 644, 2218, 937, 344, 753, 15, 187, 3, 32102, 352, 310, 2798, 14, 22071, 323, 952, 665, 452, 644, 6726, 562, 273, 616, 9076, 285, 253, 3486, 327, 9341, 449, 187, 1328, 753, 352, 369, 1774, 326, 346, 303, 8613, 5018, 3, 497, 2668, 281, 4017, 253, 3672, 954, 14043, 285, 247, 2590, 4522, 48453, 1691, 275, 1659, 323, 10802, 12212, 5827, 15, 187, 11778, 368, 644, 5876, 407, 28037, 275, 38004, 71, 2246, 285, 443, 8912, 333, 390, 253, 378, 6609, 32, 19906, 441, 670, 634, 2793, 273, 253, 4112, 285, 849, 352, 369, 15726, 15, 21726, 441, 327, 11329, 76, 11131, 15, 13608, 33, 4482, 68, 15, 1940, 15, 2788, 390, 47171, 71, 2246, 33, 4482, 68, 15, 1940, 15, 2788, 15], [2204, 4175, 907, 27, 329, 3289, 13965, 2427, 745, 387, 253, 37768, 14515, 275, 15541, 5720, 387, 670, 16703, 27, 938, 378, 1267, 327, 7814, 285, 12958, 497, 2546, 281, 3553, 253, 8614, 15, 187, 1909, 597, 13037, 3345, 597, 3047, 253, 767, 23444, 13, 24805, 1930, 14, 1615, 14, 2189, 275, 253, 1113, 5603, 13, 48131, 264, 407, 26126, 15, 187, 4041, 273, 253, 4892, 2390, 310, 432, 6176, 13, 253, 643, 432, 4135, 285, 17975, 15, 733, 369, 616, 806, 2360, 275, 11442, 11011, 15, 187, 510, 6254, 273, 581, 273, 253, 23444, 753, 1142, 273, 253, 16479, 574, 1669, 3367, 45308, 327, 4450, 285, 841, 574, 644, 11069, 15, 187, 14358, 2390, 452, 29070, 5407, 19418, 285, 588, 3135, 616, 4892, 273, 253, 6146, 8852, 1996, 685, 597, 574, 9355, 15, 187, 24195, 452, 20652, 323, 1491, 670, 253, 2983, 15, 187, 688, 1033, 5119, 29215, 753, 27, 346, 1147, 4620, 347, 2167, 253, 3289, 3053, 762, 581, 273, 253, 23444, 1078, 17355, 281, 253, 1273, 15, 187, 3, 6175, 253, 3242, 2847, 310, 1335, 762, 5839, 13, 352, 310, 1869, 326, 253, 3289, 369, 3053, 21547, 449]], 'attention_mask': [[1, 1, 1, 1, 1, 1, 1, 1, 1, 1, 1, 1, 1, 1, 1, 1, 1, 1, 1, 1, 1, 1, 1, 1, 1, 1, 1, 1, 1, 1, 1, 1, 1, 1, 1, 1, 1, 1, 1, 1, 1, 1, 1, 1, 1, 1, 1, 1, 1, 1, 1, 1, 1, 1, 1, 1, 1, 1, 1, 1, 1, 1, 1, 1, 1, 1, 1, 1, 1, 1, 1, 1, 1, 1, 1, 1, 1, 1, 1, 1, 1, 1, 1, 1, 1, 1, 1, 1, 1, 1, 1, 1, 1, 1, 1, 1, 1, 1, 1, 1, 1, 1, 1, 1, 1, 1, 1, 1, 1, 1, 1, 1, 1, 1, 1, 1, 1, 1, 1, 1, 1, 1, 1, 1, 1, 1, 1, 1, 1, 1, 1, 1, 1, 1, 1, 1, 1, 1, 1, 1, 1, 1, 1, 1, 1, 1, 1, 1, 1, 1, 1, 1, 1, 1, 1, 1, 1, 1, 1, 1, 1, 1, 1, 1, 1, 1, 1, 1, 1, 1, 1, 1, 1, 1, 1, 1, 1, 1, 1, 1, 1, 1, 1, 1, 1, 1, 1, 1, 1, 1, 1, 1, 1, 1, 1, 1, 1, 1, 1, 1, 1, 1, 1, 1, 1, 1, 1, 1, 1, 1, 1, 1, 1, 1, 1, 1, 1, 1, 1, 1, 1, 1, 1, 1, 1, 1, 1, 1, 1, 1, 1, 1, 1, 1, 1, 1, 1, 1, 1, 1, 1, 1, 1, 1, 1, 1, 1, 1, 1, 1, 1, 1, 1, 1, 1, 1, 1, 1, 1, 1, 1, 1, 1, 1, 1, 1, 1, 1, 1, 1, 1, 1, 1, 1, 1, 1, 1, 1, 1, 1, 1, 1, 1, 1, 1, 1, 1, 1, 1, 1, 1, 1, 1, 1, 1, 1, 1, 1, 1, 1, 1, 1, 1, 1, 1, 1, 1, 1, 1, 1, 1, 1, 1, 1, 1, 1, 1, 1, 1, 1, 1, 1, 1, 1, 1, 1, 1, 1, 1, 1, 1, 1, 1, 1, 1, 1, 1, 1, 1, 1, 1, 1, 1, 1, 1, 1, 1, 1, 1, 1, 1, 1, 1, 1, 1, 1, 1, 1, 1, 1, 1, 1, 1, 1, 1, 1, 1, 1, 1, 1, 1, 1, 1, 1, 1, 1, 1, 1, 1, 1, 1, 1, 1, 1, 1, 1, 1, 1, 1, 1, 1, 1, 1, 1, 1, 1, 1, 1, 1, 1, 1, 1, 1, 1, 1, 1, 1, 1, 1, 1, 1, 1, 1, 1, 1, 1, 1, 1, 1, 1, 1, 1, 1, 1, 1, 1, 1, 1, 1, 1, 1, 1, 1, 1, 1, 1, 1, 1, 1, 1, 1, 1, 1, 1, 1, 1, 1, 1, 1, 1, 1, 1, 1, 1, 1, 1, 1, 1, 1, 1, 1, 1, 1, 1, 1, 1, 1, 1, 1, 1, 1, 1, 1, 1, 1, 1, 1, 1, 1, 1, 1, 1, 1, 1, 1, 1, 1, 1, 1, 1, 1, 1, 1, 1, 1, 1, 1, 1, 1, 1, 1, 1, 1, 1, 1, 1, 1, 1, 1, 1, 1, 1, 1, 1, 1, 1, 1, 1, 1, 1, 1, 1, 1, 1, 1, 1, 1, 1, 1], [1, 1, 1, 1, 1, 1, 1, 1, 1, 1, 1, 1, 1, 1, 1, 1, 1, 1, 1, 1, 1, 1, 1, 1, 1, 1, 1, 1, 1, 1, 1, 1, 1, 1, 1, 1, 1, 1, 1, 1, 1, 1, 1, 1, 1, 1, 1, 1, 1, 1, 1, 1, 1, 1, 1, 1, 1, 1, 1, 1, 1, 1, 1, 1, 1, 1, 1, 1, 1, 1, 1, 1, 1, 1, 1, 1, 1, 1, 1, 1, 1, 1, 1, 1, 1, 1, 1, 1, 1, 1, 1, 1, 1, 1, 1, 1, 1, 1, 1, 1, 1, 1, 1, 1, 1, 1, 1, 1, 1, 1, 1, 1, 1, 1, 1, 1, 1, 1, 1, 1, 1, 1, 1, 1, 1, 1, 1, 1, 1, 1, 1, 1, 1, 1, 1, 1, 1, 1, 1, 1, 1, 1, 1, 1, 1, 1, 1, 1, 1, 1, 1, 1, 1, 1, 1, 1, 1, 1, 1, 1, 1, 1, 1, 1, 1, 1, 1, 1, 1, 1, 1, 1, 1, 1, 1, 1, 1, 1, 1, 1, 1, 1, 1, 1, 1, 1, 1, 1, 1, 1, 1]], 'labels': [[36272, 14, 484, 5871, 403, 11440, 2439, 253, 17960, 378, 6609, 285, 38004, 71, 2246, 285, 443, 8912, 333, 846, 28037, 4269, 407, 25005, 6893, 15], [7910, 22777, 23444, 452, 644, 11069, 407, 3289, 275, 247, 13282, 549, 1665, 2983, 275, 44867, 2846, 9145, 15]]}"
      ]
     },
     "execution_count": 11,
     "metadata": {},
     "output_type": "execute_result"
    }
   ],
   "source": [
    "max_input_length = 1024\n",
    "max_target_length = 128\n",
    "\n",
    "def preprocess_function(examples):\n",
    "    inputs = [prefix + doc for doc in examples[\"document\"]]\n",
    "    model_inputs = tokenizer(inputs, max_length=max_input_length, truncation=True)\n",
    "\n",
    "    # Setup the tokenizer for targets\n",
    "    labels = tokenizer(text_target=examples[\"summary\"], max_length=max_target_length, truncation=True)\n",
    "\n",
    "    model_inputs[\"labels\"] = labels[\"input_ids\"]\n",
    "    return model_inputs\n",
    "\n",
    "preprocess_function(raw_datasets['train'][:2])"
   ]
  },
  {
   "cell_type": "code",
   "execution_count": 12,
   "id": "1f59d798-03d5-4798-814b-bc8609aea14c",
   "metadata": {},
   "outputs": [
    {
     "data": {
      "application/vnd.jupyter.widget-view+json": {
       "model_id": "23c2815016734ffbb0c4d75544361a2a",
       "version_major": 2,
       "version_minor": 0
      },
      "text/plain": [
       "Map:   0%|          | 0/204045 [00:00<?, ? examples/s]"
      ]
     },
     "metadata": {},
     "output_type": "display_data"
    },
    {
     "data": {
      "application/vnd.jupyter.widget-view+json": {
       "model_id": "bd5827e8bdd9456e9111bc14541bf220",
       "version_major": 2,
       "version_minor": 0
      },
      "text/plain": [
       "Map:   0%|          | 0/11332 [00:00<?, ? examples/s]"
      ]
     },
     "metadata": {},
     "output_type": "display_data"
    },
    {
     "data": {
      "application/vnd.jupyter.widget-view+json": {
       "model_id": "cc9b893eabe549f0aa3ebccf6fea7efe",
       "version_major": 2,
       "version_minor": 0
      },
      "text/plain": [
       "Map:   0%|          | 0/11334 [00:00<?, ? examples/s]"
      ]
     },
     "metadata": {},
     "output_type": "display_data"
    }
   ],
   "source": [
    "tokenized_datasets = raw_datasets.map(preprocess_function, batched=True)"
   ]
  },
  {
   "cell_type": "code",
   "execution_count": 13,
   "id": "743c2bb2-97ee-4914-af96-d25f4e1de247",
   "metadata": {},
   "outputs": [
    {
     "name": "stderr",
     "output_type": "stream",
     "text": [
      "comet_ml is installed but `COMET_API_KEY` is not set.\n"
     ]
    },
    {
     "ename": "ValueError",
     "evalue": "Unrecognized configuration class <class 'transformers.models.rwkv.configuration_rwkv.RwkvConfig'> for this kind of AutoModel: AutoModelForSeq2SeqLM.\nModel type should be one of BartConfig, BigBirdPegasusConfig, BlenderbotConfig, BlenderbotSmallConfig, EncoderDecoderConfig, FSMTConfig, GPTSanJapaneseConfig, LEDConfig, LongT5Config, M2M100Config, MarianConfig, MBartConfig, MT5Config, MvpConfig, NllbMoeConfig, PegasusConfig, PegasusXConfig, PLBartConfig, ProphetNetConfig, SeamlessM4TConfig, SeamlessM4Tv2Config, SwitchTransformersConfig, T5Config, UMT5Config, XLMProphetNetConfig.",
     "output_type": "error",
     "traceback": [
      "\u001b[0;31m---------------------------------------------------------------------------\u001b[0m",
      "\u001b[0;31mValueError\u001b[0m                                Traceback (most recent call last)",
      "Cell \u001b[0;32mIn[13], line 3\u001b[0m\n\u001b[1;32m      1\u001b[0m \u001b[38;5;28;01mfrom\u001b[39;00m \u001b[38;5;21;01mtransformers\u001b[39;00m \u001b[38;5;28;01mimport\u001b[39;00m AutoModelForSeq2SeqLM, DataCollatorForSeq2Seq, Seq2SeqTrainingArguments, Seq2SeqTrainer\n\u001b[0;32m----> 3\u001b[0m model \u001b[38;5;241m=\u001b[39m \u001b[43mAutoModelForSeq2SeqLM\u001b[49m\u001b[38;5;241;43m.\u001b[39;49m\u001b[43mfrom_pretrained\u001b[49m\u001b[43m(\u001b[49m\u001b[43mmodel_checkpoint\u001b[49m\u001b[43m)\u001b[49m\n",
      "File \u001b[0;32m~/anaconda3/envs/6758hmk4/lib/python3.11/site-packages/transformers/models/auto/auto_factory.py:566\u001b[0m, in \u001b[0;36m_BaseAutoModelClass.from_pretrained\u001b[0;34m(cls, pretrained_model_name_or_path, *model_args, **kwargs)\u001b[0m\n\u001b[1;32m    562\u001b[0m     model_class \u001b[38;5;241m=\u001b[39m _get_model_class(config, \u001b[38;5;28mcls\u001b[39m\u001b[38;5;241m.\u001b[39m_model_mapping)\n\u001b[1;32m    563\u001b[0m     \u001b[38;5;28;01mreturn\u001b[39;00m model_class\u001b[38;5;241m.\u001b[39mfrom_pretrained(\n\u001b[1;32m    564\u001b[0m         pretrained_model_name_or_path, \u001b[38;5;241m*\u001b[39mmodel_args, config\u001b[38;5;241m=\u001b[39mconfig, \u001b[38;5;241m*\u001b[39m\u001b[38;5;241m*\u001b[39mhub_kwargs, \u001b[38;5;241m*\u001b[39m\u001b[38;5;241m*\u001b[39mkwargs\n\u001b[1;32m    565\u001b[0m     )\n\u001b[0;32m--> 566\u001b[0m \u001b[38;5;28;01mraise\u001b[39;00m \u001b[38;5;167;01mValueError\u001b[39;00m(\n\u001b[1;32m    567\u001b[0m     \u001b[38;5;124mf\u001b[39m\u001b[38;5;124m\"\u001b[39m\u001b[38;5;124mUnrecognized configuration class \u001b[39m\u001b[38;5;132;01m{\u001b[39;00mconfig\u001b[38;5;241m.\u001b[39m\u001b[38;5;18m__class__\u001b[39m\u001b[38;5;132;01m}\u001b[39;00m\u001b[38;5;124m for this kind of AutoModel: \u001b[39m\u001b[38;5;132;01m{\u001b[39;00m\u001b[38;5;28mcls\u001b[39m\u001b[38;5;241m.\u001b[39m\u001b[38;5;18m__name__\u001b[39m\u001b[38;5;132;01m}\u001b[39;00m\u001b[38;5;124m.\u001b[39m\u001b[38;5;130;01m\\n\u001b[39;00m\u001b[38;5;124m\"\u001b[39m\n\u001b[1;32m    568\u001b[0m     \u001b[38;5;124mf\u001b[39m\u001b[38;5;124m\"\u001b[39m\u001b[38;5;124mModel type should be one of \u001b[39m\u001b[38;5;132;01m{\u001b[39;00m\u001b[38;5;124m'\u001b[39m\u001b[38;5;124m, \u001b[39m\u001b[38;5;124m'\u001b[39m\u001b[38;5;241m.\u001b[39mjoin(c\u001b[38;5;241m.\u001b[39m\u001b[38;5;18m__name__\u001b[39m\u001b[38;5;250m \u001b[39m\u001b[38;5;28;01mfor\u001b[39;00m\u001b[38;5;250m \u001b[39mc\u001b[38;5;250m \u001b[39m\u001b[38;5;129;01min\u001b[39;00m\u001b[38;5;250m \u001b[39m\u001b[38;5;28mcls\u001b[39m\u001b[38;5;241m.\u001b[39m_model_mapping\u001b[38;5;241m.\u001b[39mkeys())\u001b[38;5;132;01m}\u001b[39;00m\u001b[38;5;124m.\u001b[39m\u001b[38;5;124m\"\u001b[39m\n\u001b[1;32m    569\u001b[0m )\n",
      "\u001b[0;31mValueError\u001b[0m: Unrecognized configuration class <class 'transformers.models.rwkv.configuration_rwkv.RwkvConfig'> for this kind of AutoModel: AutoModelForSeq2SeqLM.\nModel type should be one of BartConfig, BigBirdPegasusConfig, BlenderbotConfig, BlenderbotSmallConfig, EncoderDecoderConfig, FSMTConfig, GPTSanJapaneseConfig, LEDConfig, LongT5Config, M2M100Config, MarianConfig, MBartConfig, MT5Config, MvpConfig, NllbMoeConfig, PegasusConfig, PegasusXConfig, PLBartConfig, ProphetNetConfig, SeamlessM4TConfig, SeamlessM4Tv2Config, SwitchTransformersConfig, T5Config, UMT5Config, XLMProphetNetConfig."
     ]
    }
   ],
   "source": [
    "from transformers import AutoModelForSeq2SeqLM, DataCollatorForSeq2Seq, Seq2SeqTrainingArguments, Seq2SeqTrainer\n",
    "\n",
    "model = AutoModelForSeq2SeqLM.from_pretrained(model_checkpoint)"
   ]
  },
  {
   "cell_type": "code",
   "execution_count": null,
   "id": "2addbda8-f955-452b-9073-deb159fe2894",
   "metadata": {},
   "outputs": [],
   "source": [
    "batch_size = 16\n",
    "model_name = model_checkpoint.split(\"/\")[-1]\n",
    "args = Seq2SeqTrainingArguments(\n",
    "    f\"{model_name}-finetuned-xsum\",\n",
    "    evaluation_strategy = \"epoch\",\n",
    "    learning_rate=2e-5,\n",
    "    per_device_train_batch_size=batch_size,\n",
    "    per_device_eval_batch_size=batch_size,\n",
    "    weight_decay=0.01,\n",
    "    save_total_limit=3,\n",
    "    num_train_epochs=1,\n",
    "    predict_with_generate=True,\n",
    "    fp16=True,\n",
    "    push_to_hub=True,\n",
    ")"
   ]
  },
  {
   "cell_type": "code",
   "execution_count": null,
   "id": "ed12aa11-01cd-4320-af15-6dd71a920f19",
   "metadata": {},
   "outputs": [],
   "source": [
    "data_collator = DataCollatorForSeq2Seq(tokenizer, model=model)"
   ]
  },
  {
   "cell_type": "code",
   "execution_count": null,
   "id": "c388173e-e9c7-46f7-9ee4-de94bb66f36d",
   "metadata": {},
   "outputs": [],
   "source": [
    "import nltk\n",
    "import numpy as np\n",
    "\n",
    "def compute_metrics(eval_pred):\n",
    "    predictions, labels = eval_pred\n",
    "    decoded_preds = tokenizer.batch_decode(predictions, skip_special_tokens=True)\n",
    "    # Replace -100 in the labels as we can't decode them.\n",
    "    labels = np.where(labels != -100, labels, tokenizer.pad_token_id)\n",
    "    decoded_labels = tokenizer.batch_decode(labels, skip_special_tokens=True)\n",
    "    \n",
    "    # Rouge expects a newline after each sentence\n",
    "    decoded_preds = [\"\\n\".join(nltk.sent_tokenize(pred.strip())) for pred in decoded_preds]\n",
    "    decoded_labels = [\"\\n\".join(nltk.sent_tokenize(label.strip())) for label in decoded_labels]\n",
    "    \n",
    "    # Note that other metrics may not have a `use_aggregator` parameter\n",
    "    # and thus will return a list, computing a metric for each sentence.\n",
    "    result = metric.compute(predictions=decoded_preds, references=decoded_labels, use_stemmer=True, use_aggregator=True)\n",
    "    # Extract a few results\n",
    "    result = {key: value * 100 for key, value in result.items()}\n",
    "    \n",
    "    # Add mean generated length\n",
    "    prediction_lens = [np.count_nonzero(pred != tokenizer.pad_token_id) for pred in predictions]\n",
    "    result[\"gen_len\"] = np.mean(prediction_lens)\n",
    "    \n",
    "    return {k: round(v, 4) for k, v in result.items()}"
   ]
  },
  {
   "cell_type": "code",
   "execution_count": null,
   "id": "dd432710-37ce-4747-95af-51a18811b672",
   "metadata": {},
   "outputs": [],
   "source": [
    "trainer = Seq2SeqTrainer(\n",
    "    model,\n",
    "    args,\n",
    "    train_dataset=tokenized_datasets[\"train\"],\n",
    "    eval_dataset=tokenized_datasets[\"validation\"],\n",
    "    data_collator=data_collator,\n",
    "    tokenizer=tokenizer,\n",
    "    compute_metrics=compute_metrics\n",
    ")"
   ]
  },
  {
   "cell_type": "code",
   "execution_count": null,
   "id": "e182dcfa-1430-40bc-acd3-495cd065821b",
   "metadata": {},
   "outputs": [],
   "source": [
    "trainer.train()"
   ]
  },
  {
   "cell_type": "code",
   "execution_count": null,
   "id": "33670021-4ced-43ed-9dde-4c56290c0b2c",
   "metadata": {},
   "outputs": [],
   "source": [
    "eval_results = trainer.evaluate()"
   ]
  },
  {
   "cell_type": "code",
   "execution_count": null,
   "id": "da41ff3b-927d-443e-8ace-e445634c1a14",
   "metadata": {},
   "outputs": [],
   "source": []
  },
  {
   "cell_type": "code",
   "execution_count": null,
   "id": "bd9a9382-2f95-4751-9198-482be34157cb",
   "metadata": {},
   "outputs": [],
   "source": []
  }
 ],
 "metadata": {
  "kernelspec": {
   "display_name": "6758hmk4",
   "language": "python",
   "name": "6758hmk4"
  },
  "language_info": {
   "codemirror_mode": {
    "name": "ipython",
    "version": 3
   },
   "file_extension": ".py",
   "mimetype": "text/x-python",
   "name": "python",
   "nbconvert_exporter": "python",
   "pygments_lexer": "ipython3",
   "version": "3.11.6"
  }
 },
 "nbformat": 4,
 "nbformat_minor": 5
}
